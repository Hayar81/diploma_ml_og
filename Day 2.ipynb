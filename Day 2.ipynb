{
 "cells": [
  {
   "cell_type": "markdown",
   "id": "e3d2a536",
   "metadata": {},
   "source": [
    "# Data Type"
   ]
  },
  {
   "cell_type": "code",
   "execution_count": 1,
   "id": "9c031f6f",
   "metadata": {
    "scrolled": true
   },
   "outputs": [
    {
     "name": "stdout",
     "output_type": "stream",
     "text": [
      "Hello World\n"
     ]
    }
   ],
   "source": [
    "print(\"Hello World\")"
   ]
  },
  {
   "cell_type": "markdown",
   "id": "6ee90d46",
   "metadata": {},
   "source": [
    "### above data is Text require \"\""
   ]
  },
  {
   "cell_type": "code",
   "execution_count": 2,
   "id": "e787ecf8",
   "metadata": {
    "scrolled": true
   },
   "outputs": [
    {
     "ename": "SyntaxError",
     "evalue": "invalid syntax (<ipython-input-2-10cb182148e3>, line 1)",
     "output_type": "error",
     "traceback": [
      "\u001b[1;36m  File \u001b[1;32m\"<ipython-input-2-10cb182148e3>\"\u001b[1;36m, line \u001b[1;32m1\u001b[0m\n\u001b[1;33m    print(Hello World)\u001b[0m\n\u001b[1;37m                ^\u001b[0m\n\u001b[1;31mSyntaxError\u001b[0m\u001b[1;31m:\u001b[0m invalid syntax\n"
     ]
    }
   ],
   "source": [
    "print(Hello World)"
   ]
  },
  {
   "cell_type": "markdown",
   "id": "5a12be43",
   "metadata": {},
   "source": [
    "#### error --> text is not within \"\" "
   ]
  },
  {
   "cell_type": "markdown",
   "id": "831eb6ac",
   "metadata": {},
   "source": [
    "## Integer"
   ]
  },
  {
   "cell_type": "code",
   "execution_count": 3,
   "id": "62ab7d5e",
   "metadata": {},
   "outputs": [
    {
     "data": {
      "text/plain": [
       "1"
      ]
     },
     "execution_count": 3,
     "metadata": {},
     "output_type": "execute_result"
    }
   ],
   "source": [
    "1"
   ]
  },
  {
   "cell_type": "code",
   "execution_count": 4,
   "id": "27bfb067",
   "metadata": {},
   "outputs": [
    {
     "data": {
      "text/plain": [
       "343"
      ]
     },
     "execution_count": 4,
     "metadata": {},
     "output_type": "execute_result"
    }
   ],
   "source": [
    "343"
   ]
  },
  {
   "cell_type": "code",
   "execution_count": 5,
   "id": "968548ea",
   "metadata": {},
   "outputs": [
    {
     "name": "stdout",
     "output_type": "stream",
     "text": [
      "78\n"
     ]
    }
   ],
   "source": [
    "print(78)"
   ]
  },
  {
   "cell_type": "markdown",
   "id": "65c0ad0b",
   "metadata": {},
   "source": [
    "## Floats: Decimal Values"
   ]
  },
  {
   "cell_type": "code",
   "execution_count": null,
   "id": "0e7b4757",
   "metadata": {},
   "outputs": [],
   "source": [
    "7.0"
   ]
  },
  {
   "cell_type": "code",
   "execution_count": 6,
   "id": "588d2f24",
   "metadata": {},
   "outputs": [
    {
     "name": "stdout",
     "output_type": "stream",
     "text": [
      "7.6\n"
     ]
    }
   ],
   "source": [
    "print(7.6)"
   ]
  },
  {
   "cell_type": "code",
   "execution_count": 7,
   "id": "beb2a0f8",
   "metadata": {},
   "outputs": [
    {
     "data": {
      "text/plain": [
       "int"
      ]
     },
     "execution_count": 7,
     "metadata": {},
     "output_type": "execute_result"
    }
   ],
   "source": [
    "type(7)"
   ]
  },
  {
   "cell_type": "code",
   "execution_count": 8,
   "id": "45124aa0",
   "metadata": {},
   "outputs": [
    {
     "data": {
      "text/plain": [
       "float"
      ]
     },
     "execution_count": 8,
     "metadata": {},
     "output_type": "execute_result"
    }
   ],
   "source": [
    "type(7.0)"
   ]
  },
  {
   "cell_type": "markdown",
   "id": "251d1d08",
   "metadata": {},
   "source": [
    "## String :\n",
    "\"  \",'  ' anything between them --> good practice to use double comma \" \""
   ]
  },
  {
   "cell_type": "code",
   "execution_count": 9,
   "id": "5fcc70ec",
   "metadata": {},
   "outputs": [
    {
     "ename": "NameError",
     "evalue": "name 'porosity' is not defined",
     "output_type": "error",
     "traceback": [
      "\u001b[1;31m---------------------------------------------------------------------------\u001b[0m",
      "\u001b[1;31mNameError\u001b[0m                                 Traceback (most recent call last)",
      "\u001b[1;32m<ipython-input-9-ee46e2119657>\u001b[0m in \u001b[0;36m<module>\u001b[1;34m\u001b[0m\n\u001b[1;32m----> 1\u001b[1;33m \u001b[0mporosity\u001b[0m\u001b[1;33m\u001b[0m\u001b[1;33m\u001b[0m\u001b[0m\n\u001b[0m",
      "\u001b[1;31mNameError\u001b[0m: name 'porosity' is not defined"
     ]
    }
   ],
   "source": [
    "porosity"
   ]
  },
  {
   "cell_type": "markdown",
   "id": "a88bf3fb",
   "metadata": {},
   "source": [
    "#### error: python it think it is variable "
   ]
  },
  {
   "cell_type": "code",
   "execution_count": 10,
   "id": "757a7a71",
   "metadata": {},
   "outputs": [
    {
     "data": {
      "text/plain": [
       "'porosity'"
      ]
     },
     "execution_count": 10,
     "metadata": {},
     "output_type": "execute_result"
    }
   ],
   "source": [
    "\"porosity\""
   ]
  },
  {
   "cell_type": "code",
   "execution_count": 11,
   "id": "64bdcb40",
   "metadata": {},
   "outputs": [
    {
     "data": {
      "text/plain": [
       "'porosity'"
      ]
     },
     "execution_count": 11,
     "metadata": {},
     "output_type": "execute_result"
    }
   ],
   "source": [
    "'porosity'"
   ]
  },
  {
   "cell_type": "code",
   "execution_count": 14,
   "id": "cba507ee",
   "metadata": {},
   "outputs": [
    {
     "ename": "NameError",
     "evalue": "name 'porosity' is not defined",
     "output_type": "error",
     "traceback": [
      "\u001b[1;31m---------------------------------------------------------------------------\u001b[0m",
      "\u001b[1;31mNameError\u001b[0m                                 Traceback (most recent call last)",
      "\u001b[1;32m<ipython-input-14-71bb6635b585>\u001b[0m in \u001b[0;36m<module>\u001b[1;34m\u001b[0m\n\u001b[1;32m----> 1\u001b[1;33m \u001b[0mtype\u001b[0m\u001b[1;33m(\u001b[0m\u001b[0mporosity\u001b[0m\u001b[1;33m)\u001b[0m\u001b[1;33m\u001b[0m\u001b[1;33m\u001b[0m\u001b[0m\n\u001b[0m",
      "\u001b[1;31mNameError\u001b[0m: name 'porosity' is not defined"
     ]
    }
   ],
   "source": [
    "type(porosity)"
   ]
  },
  {
   "cell_type": "markdown",
   "id": "1b02606f",
   "metadata": {},
   "source": [
    "#### error:  text always between comma it is not varaible--> Value is assign to Variable "
   ]
  },
  {
   "cell_type": "code",
   "execution_count": 13,
   "id": "6773c829",
   "metadata": {},
   "outputs": [
    {
     "data": {
      "text/plain": [
       "str"
      ]
     },
     "execution_count": 13,
     "metadata": {},
     "output_type": "execute_result"
    }
   ],
   "source": [
    "type(\"porosity\")"
   ]
  },
  {
   "cell_type": "code",
   "execution_count": 15,
   "id": "3c57ebfe",
   "metadata": {},
   "outputs": [
    {
     "data": {
      "text/plain": [
       "'7'"
      ]
     },
     "execution_count": 15,
     "metadata": {},
     "output_type": "execute_result"
    }
   ],
   "source": [
    "\"7\""
   ]
  },
  {
   "cell_type": "code",
   "execution_count": 16,
   "id": "f9e64773",
   "metadata": {},
   "outputs": [
    {
     "data": {
      "text/plain": [
       "str"
      ]
     },
     "execution_count": 16,
     "metadata": {},
     "output_type": "execute_result"
    }
   ],
   "source": [
    "type(\"7\")"
   ]
  },
  {
   "cell_type": "code",
   "execution_count": 17,
   "id": "26f3b30b",
   "metadata": {},
   "outputs": [
    {
     "data": {
      "text/plain": [
       "int"
      ]
     },
     "execution_count": 17,
     "metadata": {},
     "output_type": "execute_result"
    }
   ],
   "source": [
    "type(7)"
   ]
  },
  {
   "cell_type": "code",
   "execution_count": 18,
   "id": "5aaa66e4",
   "metadata": {},
   "outputs": [
    {
     "data": {
      "text/plain": [
       "float"
      ]
     },
     "execution_count": 18,
     "metadata": {},
     "output_type": "execute_result"
    }
   ],
   "source": [
    "type(7.0)"
   ]
  },
  {
   "cell_type": "code",
   "execution_count": 19,
   "id": "6f0e52ed",
   "metadata": {},
   "outputs": [
    {
     "data": {
      "text/plain": [
       "'97879+93693'"
      ]
     },
     "execution_count": 19,
     "metadata": {},
     "output_type": "execute_result"
    }
   ],
   "source": [
    "\"97879+93693\""
   ]
  },
  {
   "cell_type": "markdown",
   "id": "64c29970",
   "metadata": {},
   "source": [
    "## Booleans : True or False Statment"
   ]
  },
  {
   "cell_type": "code",
   "execution_count": 21,
   "id": "273537d8",
   "metadata": {},
   "outputs": [
    {
     "data": {
      "text/plain": [
       "True"
      ]
     },
     "execution_count": 21,
     "metadata": {},
     "output_type": "execute_result"
    }
   ],
   "source": [
    "8>2"
   ]
  },
  {
   "cell_type": "code",
   "execution_count": 22,
   "id": "859d7e06",
   "metadata": {},
   "outputs": [
    {
     "data": {
      "text/plain": [
       "True"
      ]
     },
     "execution_count": 22,
     "metadata": {},
     "output_type": "execute_result"
    }
   ],
   "source": [
    "True"
   ]
  },
  {
   "cell_type": "code",
   "execution_count": 23,
   "id": "162c3648",
   "metadata": {},
   "outputs": [
    {
     "data": {
      "text/plain": [
       "False"
      ]
     },
     "execution_count": 23,
     "metadata": {},
     "output_type": "execute_result"
    }
   ],
   "source": [
    "False"
   ]
  },
  {
   "cell_type": "code",
   "execution_count": 24,
   "id": "badc983c",
   "metadata": {},
   "outputs": [
    {
     "data": {
      "text/plain": [
       "bool"
      ]
     },
     "execution_count": 24,
     "metadata": {},
     "output_type": "execute_result"
    }
   ],
   "source": [
    "type(True)"
   ]
  },
  {
   "cell_type": "code",
   "execution_count": 25,
   "id": "ce7192dc",
   "metadata": {},
   "outputs": [
    {
     "ename": "NameError",
     "evalue": "name 'Type' is not defined",
     "output_type": "error",
     "traceback": [
      "\u001b[1;31m---------------------------------------------------------------------------\u001b[0m",
      "\u001b[1;31mNameError\u001b[0m                                 Traceback (most recent call last)",
      "\u001b[1;32m<ipython-input-25-0009531d2918>\u001b[0m in \u001b[0;36m<module>\u001b[1;34m\u001b[0m\n\u001b[1;32m----> 1\u001b[1;33m \u001b[0mType\u001b[0m\u001b[1;33m(\u001b[0m\u001b[1;32mTrue\u001b[0m\u001b[1;33m)\u001b[0m\u001b[1;33m\u001b[0m\u001b[1;33m\u001b[0m\u001b[0m\n\u001b[0m",
      "\u001b[1;31mNameError\u001b[0m: name 'Type' is not defined"
     ]
    }
   ],
   "source": [
    "Type(True)"
   ]
  },
  {
   "cell_type": "markdown",
   "id": "606fdf8c",
   "metadata": {},
   "source": [
    "#### Error becasue Type is start with T --> correct type with small t"
   ]
  },
  {
   "cell_type": "markdown",
   "id": "b0089dc4",
   "metadata": {},
   "source": [
    "# Mathematical Operations"
   ]
  },
  {
   "cell_type": "code",
   "execution_count": 1,
   "id": "90b27e04",
   "metadata": {},
   "outputs": [
    {
     "data": {
      "text/plain": [
       "99"
      ]
     },
     "execution_count": 1,
     "metadata": {},
     "output_type": "execute_result"
    }
   ],
   "source": [
    "55+44"
   ]
  },
  {
   "cell_type": "code",
   "execution_count": 2,
   "id": "3d2f1ff8",
   "metadata": {},
   "outputs": [
    {
     "data": {
      "text/plain": [
       "110"
      ]
     },
     "execution_count": 2,
     "metadata": {},
     "output_type": "execute_result"
    }
   ],
   "source": [
    "55*2"
   ]
  },
  {
   "cell_type": "code",
   "execution_count": 3,
   "id": "aa2c811d",
   "metadata": {},
   "outputs": [
    {
     "data": {
      "text/plain": [
       "11"
      ]
     },
     "execution_count": 3,
     "metadata": {},
     "output_type": "execute_result"
    }
   ],
   "source": [
    "23-12"
   ]
  },
  {
   "cell_type": "code",
   "execution_count": 4,
   "id": "69e10c08",
   "metadata": {},
   "outputs": [
    {
     "data": {
      "text/plain": [
       "27.5"
      ]
     },
     "execution_count": 4,
     "metadata": {},
     "output_type": "execute_result"
    }
   ],
   "source": [
    "55/2"
   ]
  },
  {
   "cell_type": "code",
   "execution_count": 5,
   "id": "524f4c13",
   "metadata": {},
   "outputs": [
    {
     "data": {
      "text/plain": [
       "float"
      ]
     },
     "execution_count": 5,
     "metadata": {},
     "output_type": "execute_result"
    }
   ],
   "source": [
    "type(27.5)"
   ]
  },
  {
   "cell_type": "code",
   "execution_count": 6,
   "id": "f15502a4",
   "metadata": {},
   "outputs": [
    {
     "data": {
      "text/plain": [
       "5.0"
      ]
     },
     "execution_count": 6,
     "metadata": {},
     "output_type": "execute_result"
    }
   ],
   "source": [
    "10/2"
   ]
  },
  {
   "cell_type": "markdown",
   "id": "d761deb3",
   "metadata": {},
   "source": [
    "## whenever we use division it is a float and if we use float with integer will be float"
   ]
  },
  {
   "cell_type": "code",
   "execution_count": 7,
   "id": "04d29447",
   "metadata": {},
   "outputs": [
    {
     "data": {
      "text/plain": [
       "15.0"
      ]
     },
     "execution_count": 7,
     "metadata": {},
     "output_type": "execute_result"
    }
   ],
   "source": [
    "10.0+5"
   ]
  },
  {
   "cell_type": "code",
   "execution_count": 8,
   "id": "cdc4934f",
   "metadata": {},
   "outputs": [
    {
     "data": {
      "text/plain": [
       "15"
      ]
     },
     "execution_count": 8,
     "metadata": {},
     "output_type": "execute_result"
    }
   ],
   "source": [
    "10+5"
   ]
  },
  {
   "cell_type": "code",
   "execution_count": 9,
   "id": "208c288f",
   "metadata": {},
   "outputs": [
    {
     "data": {
      "text/plain": [
       "125"
      ]
     },
     "execution_count": 9,
     "metadata": {},
     "output_type": "execute_result"
    }
   ],
   "source": [
    "5**3"
   ]
  },
  {
   "cell_type": "code",
   "execution_count": 10,
   "id": "fd56abe0",
   "metadata": {},
   "outputs": [
    {
     "name": "stdout",
     "output_type": "stream",
     "text": [
      "10\n",
      "25\n"
     ]
    }
   ],
   "source": [
    "# * for multiplication , ** for exponential power\n",
    "print(5*2)\n",
    "print(5**2)"
   ]
  },
  {
   "cell_type": "code",
   "execution_count": 1,
   "id": "29954350",
   "metadata": {},
   "outputs": [
    {
     "data": {
      "text/plain": [
       "6.2"
      ]
     },
     "execution_count": 1,
     "metadata": {},
     "output_type": "execute_result"
    }
   ],
   "source": [
    "31/5"
   ]
  },
  {
   "cell_type": "code",
   "execution_count": 5,
   "id": "3211af24",
   "metadata": {},
   "outputs": [
    {
     "data": {
      "text/plain": [
       "6"
      ]
     },
     "execution_count": 5,
     "metadata": {},
     "output_type": "execute_result"
    }
   ],
   "source": [
    "31//5 # result with integral"
   ]
  },
  {
   "cell_type": "code",
   "execution_count": 6,
   "id": "0abdd5a8",
   "metadata": {},
   "outputs": [
    {
     "data": {
      "text/plain": [
       "1"
      ]
     },
     "execution_count": 6,
     "metadata": {},
     "output_type": "execute_result"
    }
   ],
   "source": [
    "31%5 # reminder of 31/5 5*6=30-31=1"
   ]
  },
  {
   "cell_type": "code",
   "execution_count": null,
   "id": "c02434a4",
   "metadata": {},
   "outputs": [],
   "source": [
    "# String"
   ]
  },
  {
   "cell_type": "code",
   "execution_count": 7,
   "id": "f9ae3e96",
   "metadata": {},
   "outputs": [
    {
     "data": {
      "text/plain": [
       "'55+22'"
      ]
     },
     "execution_count": 7,
     "metadata": {},
     "output_type": "execute_result"
    }
   ],
   "source": [
    "\"55+22\""
   ]
  },
  {
   "cell_type": "code",
   "execution_count": 8,
   "id": "589ee822",
   "metadata": {},
   "outputs": [
    {
     "data": {
      "text/plain": [
       "'5533'"
      ]
     },
     "execution_count": 8,
     "metadata": {},
     "output_type": "execute_result"
    }
   ],
   "source": [
    "\"55\"+\"33\" # concate togather "
   ]
  },
  {
   "cell_type": "code",
   "execution_count": 9,
   "id": "c2c487f3",
   "metadata": {},
   "outputs": [
    {
     "data": {
      "text/plain": [
       "'Hello All'"
      ]
     },
     "execution_count": 9,
     "metadata": {},
     "output_type": "execute_result"
    }
   ],
   "source": [
    "\"Hello\"+\" All\""
   ]
  },
  {
   "cell_type": "code",
   "execution_count": 10,
   "id": "17a20493",
   "metadata": {},
   "outputs": [
    {
     "data": {
      "text/plain": [
       "'555'"
      ]
     },
     "execution_count": 10,
     "metadata": {},
     "output_type": "execute_result"
    }
   ],
   "source": [
    "\"5\"*3"
   ]
  },
  {
   "cell_type": "code",
   "execution_count": 12,
   "id": "ffc4d244",
   "metadata": {},
   "outputs": [
    {
     "data": {
      "text/plain": [
       "'555'"
      ]
     },
     "execution_count": 12,
     "metadata": {},
     "output_type": "execute_result"
    }
   ],
   "source": [
    "\"5\"+\"5\"+\"5\""
   ]
  },
  {
   "cell_type": "code",
   "execution_count": 13,
   "id": "841f082a",
   "metadata": {},
   "outputs": [
    {
     "data": {
      "text/plain": [
       "'petroleum petroleum petroleum '"
      ]
     },
     "execution_count": 13,
     "metadata": {},
     "output_type": "execute_result"
    }
   ],
   "source": [
    "\"petroleum \"*3"
   ]
  },
  {
   "cell_type": "code",
   "execution_count": 14,
   "id": "e81bed88",
   "metadata": {},
   "outputs": [],
   "source": [
    "## Booleans"
   ]
  },
  {
   "cell_type": "code",
   "execution_count": 15,
   "id": "63e340ff",
   "metadata": {},
   "outputs": [
    {
     "data": {
      "text/plain": [
       "True"
      ]
     },
     "execution_count": 15,
     "metadata": {},
     "output_type": "execute_result"
    }
   ],
   "source": [
    "78>56"
   ]
  },
  {
   "cell_type": "code",
   "execution_count": 16,
   "id": "cc0efabe",
   "metadata": {},
   "outputs": [
    {
     "data": {
      "text/plain": [
       "False"
      ]
     },
     "execution_count": 16,
     "metadata": {},
     "output_type": "execute_result"
    }
   ],
   "source": [
    "78<56"
   ]
  },
  {
   "cell_type": "code",
   "execution_count": 17,
   "id": "28c90c78",
   "metadata": {},
   "outputs": [
    {
     "data": {
      "text/plain": [
       "True"
      ]
     },
     "execution_count": 17,
     "metadata": {},
     "output_type": "execute_result"
    }
   ],
   "source": [
    "55==55 # == equal"
   ]
  },
  {
   "cell_type": "code",
   "execution_count": 18,
   "id": "ef60648b",
   "metadata": {},
   "outputs": [
    {
     "data": {
      "text/plain": [
       "False"
      ]
     },
     "execution_count": 18,
     "metadata": {},
     "output_type": "execute_result"
    }
   ],
   "source": [
    "55 == 65"
   ]
  },
  {
   "cell_type": "code",
   "execution_count": 19,
   "id": "ddcb6dfc",
   "metadata": {},
   "outputs": [],
   "source": [
    "## logic have 2 condition  (and) 2 statment is ture (OR) one of the condition is true"
   ]
  },
  {
   "cell_type": "code",
   "execution_count": 20,
   "id": "ceec728a",
   "metadata": {},
   "outputs": [
    {
     "data": {
      "text/plain": [
       "True"
      ]
     },
     "execution_count": 20,
     "metadata": {},
     "output_type": "execute_result"
    }
   ],
   "source": [
    "56>23"
   ]
  },
  {
   "cell_type": "code",
   "execution_count": 21,
   "id": "d7c576d3",
   "metadata": {},
   "outputs": [
    {
     "data": {
      "text/plain": [
       "True"
      ]
     },
     "execution_count": 21,
     "metadata": {},
     "output_type": "execute_result"
    }
   ],
   "source": [
    "25<45"
   ]
  },
  {
   "cell_type": "code",
   "execution_count": 25,
   "id": "2759d008",
   "metadata": {},
   "outputs": [
    {
     "data": {
      "text/plain": [
       "True"
      ]
     },
     "execution_count": 25,
     "metadata": {},
     "output_type": "execute_result"
    }
   ],
   "source": [
    "56>23 and 25<45"
   ]
  },
  {
   "cell_type": "code",
   "execution_count": 24,
   "id": "9b39bebf",
   "metadata": {},
   "outputs": [
    {
     "data": {
      "text/plain": [
       "False"
      ]
     },
     "execution_count": 24,
     "metadata": {},
     "output_type": "execute_result"
    }
   ],
   "source": [
    "56>23 and 25<20"
   ]
  },
  {
   "cell_type": "code",
   "execution_count": 26,
   "id": "5cbdbe23",
   "metadata": {},
   "outputs": [
    {
     "data": {
      "text/plain": [
       "True"
      ]
     },
     "execution_count": 26,
     "metadata": {},
     "output_type": "execute_result"
    }
   ],
   "source": [
    "43>23"
   ]
  },
  {
   "cell_type": "code",
   "execution_count": 27,
   "id": "437c958e",
   "metadata": {},
   "outputs": [
    {
     "data": {
      "text/plain": [
       "False"
      ]
     },
     "execution_count": 27,
     "metadata": {},
     "output_type": "execute_result"
    }
   ],
   "source": [
    "45<21"
   ]
  },
  {
   "cell_type": "code",
   "execution_count": 28,
   "id": "85293e1e",
   "metadata": {},
   "outputs": [
    {
     "data": {
      "text/plain": [
       "True"
      ]
     },
     "execution_count": 28,
     "metadata": {},
     "output_type": "execute_result"
    }
   ],
   "source": [
    "43>23 or 45<21"
   ]
  },
  {
   "cell_type": "code",
   "execution_count": 29,
   "id": "df5747d3",
   "metadata": {},
   "outputs": [
    {
     "data": {
      "text/plain": [
       "False"
      ]
     },
     "execution_count": 29,
     "metadata": {},
     "output_type": "execute_result"
    }
   ],
   "source": [
    "43<23 or 45<21"
   ]
  },
  {
   "cell_type": "markdown",
   "id": "f23644fc",
   "metadata": {},
   "source": [
    "## Variables:\n",
    "- containers for storing infromation\n",
    "- variable are created \"=\" (single equal)\n",
    "- for given runtime"
   ]
  },
  {
   "cell_type": "code",
   "execution_count": 30,
   "id": "69f5f990",
   "metadata": {},
   "outputs": [],
   "source": [
    "porosity = 20"
   ]
  },
  {
   "cell_type": "code",
   "execution_count": 31,
   "id": "51fefe50",
   "metadata": {},
   "outputs": [
    {
     "data": {
      "text/plain": [
       "20"
      ]
     },
     "execution_count": 31,
     "metadata": {},
     "output_type": "execute_result"
    }
   ],
   "source": [
    "porosity"
   ]
  },
  {
   "cell_type": "code",
   "execution_count": 32,
   "id": "ad15cc04",
   "metadata": {},
   "outputs": [
    {
     "ename": "NameError",
     "evalue": "name 'hello' is not defined",
     "output_type": "error",
     "traceback": [
      "\u001b[1;31m---------------------------------------------------------------------------\u001b[0m",
      "\u001b[1;31mNameError\u001b[0m                                 Traceback (most recent call last)",
      "\u001b[1;32m<ipython-input-32-f572d396fae9>\u001b[0m in \u001b[0;36m<module>\u001b[1;34m\u001b[0m\n\u001b[1;32m----> 1\u001b[1;33m \u001b[0mhello\u001b[0m\u001b[1;33m\u001b[0m\u001b[1;33m\u001b[0m\u001b[0m\n\u001b[0m",
      "\u001b[1;31mNameError\u001b[0m: name 'hello' is not defined"
     ]
    }
   ],
   "source": [
    "hello # is string not variable "
   ]
  },
  {
   "cell_type": "code",
   "execution_count": 33,
   "id": "727a6cec",
   "metadata": {},
   "outputs": [
    {
     "data": {
      "text/plain": [
       "'hello'"
      ]
     },
     "execution_count": 33,
     "metadata": {},
     "output_type": "execute_result"
    }
   ],
   "source": [
    "\"hello\""
   ]
  },
  {
   "cell_type": "code",
   "execution_count": 34,
   "id": "c827f93b",
   "metadata": {},
   "outputs": [
    {
     "data": {
      "text/plain": [
       "False"
      ]
     },
     "execution_count": 34,
     "metadata": {},
     "output_type": "execute_result"
    }
   ],
   "source": [
    "porosity == 45"
   ]
  },
  {
   "cell_type": "code",
   "execution_count": 35,
   "id": "65dab266",
   "metadata": {},
   "outputs": [
    {
     "ename": "NameError",
     "evalue": "name 'Petroleum' is not defined",
     "output_type": "error",
     "traceback": [
      "\u001b[1;31m---------------------------------------------------------------------------\u001b[0m",
      "\u001b[1;31mNameError\u001b[0m                                 Traceback (most recent call last)",
      "\u001b[1;32m<ipython-input-35-ebd8073a4b01>\u001b[0m in \u001b[0;36m<module>\u001b[1;34m\u001b[0m\n\u001b[1;32m----> 1\u001b[1;33m \u001b[0mb\u001b[0m \u001b[1;33m=\u001b[0m \u001b[0mPetroleum\u001b[0m\u001b[1;33m\u001b[0m\u001b[1;33m\u001b[0m\u001b[0m\n\u001b[0m",
      "\u001b[1;31mNameError\u001b[0m: name 'Petroleum' is not defined"
     ]
    }
   ],
   "source": [
    "b = Petroleum # petroleum not deined"
   ]
  },
  {
   "cell_type": "code",
   "execution_count": 36,
   "id": "dd6372f3",
   "metadata": {},
   "outputs": [],
   "source": [
    "b = \"Petroleum\" # string"
   ]
  },
  {
   "cell_type": "code",
   "execution_count": 37,
   "id": "ff6114f5",
   "metadata": {},
   "outputs": [
    {
     "data": {
      "text/plain": [
       "'Petroleum'"
      ]
     },
     "execution_count": 37,
     "metadata": {},
     "output_type": "execute_result"
    }
   ],
   "source": [
    "b"
   ]
  },
  {
   "cell_type": "code",
   "execution_count": 38,
   "id": "7c724b9a",
   "metadata": {},
   "outputs": [
    {
     "data": {
      "text/plain": [
       "str"
      ]
     },
     "execution_count": 38,
     "metadata": {},
     "output_type": "execute_result"
    }
   ],
   "source": [
    "type(b)"
   ]
  },
  {
   "cell_type": "code",
   "execution_count": 40,
   "id": "6c09a273",
   "metadata": {},
   "outputs": [],
   "source": [
    "#reintialise\n",
    "b = \"porposity\""
   ]
  },
  {
   "cell_type": "code",
   "execution_count": 41,
   "id": "55948184",
   "metadata": {},
   "outputs": [
    {
     "data": {
      "text/plain": [
       "'porposity'"
      ]
     },
     "execution_count": 41,
     "metadata": {},
     "output_type": "execute_result"
    }
   ],
   "source": [
    "b"
   ]
  },
  {
   "cell_type": "code",
   "execution_count": 42,
   "id": "7acdaf84",
   "metadata": {},
   "outputs": [],
   "source": [
    "# if you restart Kernel b will not longer be defined (code will not be lost by data will be lost)"
   ]
  },
  {
   "cell_type": "markdown",
   "id": "590cf5ff",
   "metadata": {},
   "source": [
    "### variable names cannot start with a number or special character ie 2,3,4 @# but can start with an underscore\n",
    "\n",
    "## Variable name doesnot have any space between two charter but can underscore can be used"
   ]
  },
  {
   "cell_type": "code",
   "execution_count": 43,
   "id": "2025cc9b",
   "metadata": {},
   "outputs": [
    {
     "ename": "SyntaxError",
     "evalue": "invalid syntax (<ipython-input-43-3e71ab3a173b>, line 1)",
     "output_type": "error",
     "traceback": [
      "\u001b[1;36m  File \u001b[1;32m\"<ipython-input-43-3e71ab3a173b>\"\u001b[1;36m, line \u001b[1;32m1\u001b[0m\n\u001b[1;33m    1a=45\u001b[0m\n\u001b[1;37m     ^\u001b[0m\n\u001b[1;31mSyntaxError\u001b[0m\u001b[1;31m:\u001b[0m invalid syntax\n"
     ]
    }
   ],
   "source": [
    "1a=45"
   ]
  },
  {
   "cell_type": "code",
   "execution_count": 44,
   "id": "10f29619",
   "metadata": {},
   "outputs": [],
   "source": [
    "a1=45"
   ]
  },
  {
   "cell_type": "code",
   "execution_count": 45,
   "id": "a0a100b3",
   "metadata": {},
   "outputs": [
    {
     "data": {
      "text/plain": [
       "45"
      ]
     },
     "execution_count": 45,
     "metadata": {},
     "output_type": "execute_result"
    }
   ],
   "source": [
    "a1"
   ]
  },
  {
   "cell_type": "code",
   "execution_count": 46,
   "id": "2b726924",
   "metadata": {},
   "outputs": [
    {
     "ename": "SyntaxError",
     "evalue": "invalid syntax (<ipython-input-46-ca34bb43f142>, line 1)",
     "output_type": "error",
     "traceback": [
      "\u001b[1;36m  File \u001b[1;32m\"<ipython-input-46-ca34bb43f142>\"\u001b[1;36m, line \u001b[1;32m1\u001b[0m\n\u001b[1;33m    @a=43\u001b[0m\n\u001b[1;37m      ^\u001b[0m\n\u001b[1;31mSyntaxError\u001b[0m\u001b[1;31m:\u001b[0m invalid syntax\n"
     ]
    }
   ],
   "source": [
    "@a=43"
   ]
  },
  {
   "cell_type": "code",
   "execution_count": 47,
   "id": "44eda166",
   "metadata": {},
   "outputs": [],
   "source": [
    "_a = 45"
   ]
  },
  {
   "cell_type": "code",
   "execution_count": 49,
   "id": "7cf0c2fd",
   "metadata": {},
   "outputs": [
    {
     "data": {
      "text/plain": [
       "45"
      ]
     },
     "execution_count": 49,
     "metadata": {},
     "output_type": "execute_result"
    }
   ],
   "source": [
    "_a"
   ]
  },
  {
   "cell_type": "code",
   "execution_count": 50,
   "id": "a6c77645",
   "metadata": {},
   "outputs": [
    {
     "ename": "SyntaxError",
     "evalue": "invalid syntax (<ipython-input-50-6a7532e39b50>, line 1)",
     "output_type": "error",
     "traceback": [
      "\u001b[1;36m  File \u001b[1;32m\"<ipython-input-50-6a7532e39b50>\"\u001b[1;36m, line \u001b[1;32m1\u001b[0m\n\u001b[1;33m    porosirty 1 = 45\u001b[0m\n\u001b[1;37m              ^\u001b[0m\n\u001b[1;31mSyntaxError\u001b[0m\u001b[1;31m:\u001b[0m invalid syntax\n"
     ]
    }
   ],
   "source": [
    "porosirty 1 = 45"
   ]
  },
  {
   "cell_type": "code",
   "execution_count": 51,
   "id": "8d9e1209",
   "metadata": {},
   "outputs": [],
   "source": [
    "porosity_1 = 45"
   ]
  },
  {
   "cell_type": "code",
   "execution_count": 52,
   "id": "c3cf1b22",
   "metadata": {},
   "outputs": [
    {
     "data": {
      "text/plain": [
       "45"
      ]
     },
     "execution_count": 52,
     "metadata": {},
     "output_type": "execute_result"
    }
   ],
   "source": [
    "porosity_1"
   ]
  },
  {
   "cell_type": "code",
   "execution_count": 54,
   "id": "b6ff03f6",
   "metadata": {},
   "outputs": [],
   "source": [
    "poro_1 = 20\n",
    "poro_2 = 10"
   ]
  },
  {
   "cell_type": "code",
   "execution_count": 55,
   "id": "68bfdedb",
   "metadata": {},
   "outputs": [
    {
     "data": {
      "text/plain": [
       "30"
      ]
     },
     "execution_count": 55,
     "metadata": {},
     "output_type": "execute_result"
    }
   ],
   "source": [
    "poro_1 + poro_2"
   ]
  },
  {
   "cell_type": "code",
   "execution_count": 56,
   "id": "3a823a18",
   "metadata": {},
   "outputs": [
    {
     "data": {
      "text/plain": [
       "10"
      ]
     },
     "execution_count": 56,
     "metadata": {},
     "output_type": "execute_result"
    }
   ],
   "source": [
    "poro_1 -+ poro_2"
   ]
  },
  {
   "cell_type": "code",
   "execution_count": 61,
   "id": "da51c435",
   "metadata": {},
   "outputs": [],
   "source": [
    "a = \"Hello \"\n",
    "b = 3"
   ]
  },
  {
   "cell_type": "code",
   "execution_count": 62,
   "id": "46d8c231",
   "metadata": {},
   "outputs": [
    {
     "data": {
      "text/plain": [
       "'Hello Hello Hello '"
      ]
     },
     "execution_count": 62,
     "metadata": {},
     "output_type": "execute_result"
    }
   ],
   "source": [
    "a*3"
   ]
  },
  {
   "cell_type": "code",
   "execution_count": 63,
   "id": "e6d47a79",
   "metadata": {},
   "outputs": [],
   "source": [
    "a,b = \"Hello\",3"
   ]
  },
  {
   "cell_type": "code",
   "execution_count": 64,
   "id": "3dc779d4",
   "metadata": {},
   "outputs": [
    {
     "data": {
      "text/plain": [
       "'Hello'"
      ]
     },
     "execution_count": 64,
     "metadata": {},
     "output_type": "execute_result"
    }
   ],
   "source": [
    "a"
   ]
  },
  {
   "cell_type": "code",
   "execution_count": 65,
   "id": "7c531c88",
   "metadata": {},
   "outputs": [
    {
     "data": {
      "text/plain": [
       "3"
      ]
     },
     "execution_count": 65,
     "metadata": {},
     "output_type": "execute_result"
    }
   ],
   "source": [
    "b"
   ]
  },
  {
   "cell_type": "markdown",
   "id": "0eb66629",
   "metadata": {},
   "source": [
    "## input = taking input from user\n",
    "- takes input in for string"
   ]
  },
  {
   "cell_type": "code",
   "execution_count": 67,
   "id": "76ca8833",
   "metadata": {},
   "outputs": [
    {
     "name": "stdout",
     "output_type": "stream",
     "text": [
      "gfggfg\n"
     ]
    },
    {
     "data": {
      "text/plain": [
       "'gfggfg'"
      ]
     },
     "execution_count": 67,
     "metadata": {},
     "output_type": "execute_result"
    }
   ],
   "source": [
    "input()"
   ]
  },
  {
   "cell_type": "code",
   "execution_count": 68,
   "id": "187f27b0",
   "metadata": {},
   "outputs": [],
   "source": [
    "# store input varibale "
   ]
  },
  {
   "cell_type": "code",
   "execution_count": 69,
   "id": "419e961b",
   "metadata": {},
   "outputs": [
    {
     "name": "stdout",
     "output_type": "stream",
     "text": [
      "25\n"
     ]
    }
   ],
   "source": [
    "perm = input()"
   ]
  },
  {
   "cell_type": "code",
   "execution_count": 70,
   "id": "b20cecc7",
   "metadata": {},
   "outputs": [
    {
     "data": {
      "text/plain": [
       "'25'"
      ]
     },
     "execution_count": 70,
     "metadata": {},
     "output_type": "execute_result"
    }
   ],
   "source": [
    "perm"
   ]
  },
  {
   "cell_type": "code",
   "execution_count": 74,
   "id": "ca55b3b6",
   "metadata": {},
   "outputs": [
    {
     "data": {
      "text/plain": [
       "str"
      ]
     },
     "execution_count": 74,
     "metadata": {},
     "output_type": "execute_result"
    }
   ],
   "source": [
    "type(perm)"
   ]
  },
  {
   "cell_type": "code",
   "execution_count": 71,
   "id": "d3190900",
   "metadata": {},
   "outputs": [
    {
     "name": "stdout",
     "output_type": "stream",
     "text": [
      "Enter the formation's permeability: 25\n"
     ]
    }
   ],
   "source": [
    "perm = input(\"Enter the formation's permeability: \")"
   ]
  },
  {
   "cell_type": "code",
   "execution_count": 72,
   "id": "292c4bf4",
   "metadata": {},
   "outputs": [
    {
     "data": {
      "text/plain": [
       "'25'"
      ]
     },
     "execution_count": 72,
     "metadata": {},
     "output_type": "execute_result"
    }
   ],
   "source": [
    "perm"
   ]
  },
  {
   "cell_type": "code",
   "execution_count": 73,
   "id": "ecf7ad22",
   "metadata": {},
   "outputs": [
    {
     "ename": "TypeError",
     "evalue": "unsupported operand type(s) for /: 'str' and 'int'",
     "output_type": "error",
     "traceback": [
      "\u001b[1;31m---------------------------------------------------------------------------\u001b[0m",
      "\u001b[1;31mTypeError\u001b[0m                                 Traceback (most recent call last)",
      "\u001b[1;32m<ipython-input-73-85979051b709>\u001b[0m in \u001b[0;36m<module>\u001b[1;34m\u001b[0m\n\u001b[1;32m----> 1\u001b[1;33m \u001b[0mperm\u001b[0m\u001b[1;33m/\u001b[0m\u001b[1;36m2\u001b[0m\u001b[1;33m\u001b[0m\u001b[1;33m\u001b[0m\u001b[0m\n\u001b[0m",
      "\u001b[1;31mTypeError\u001b[0m: unsupported operand type(s) for /: 'str' and 'int'"
     ]
    }
   ],
   "source": [
    "perm/2"
   ]
  },
  {
   "cell_type": "code",
   "execution_count": 75,
   "id": "3b89f338",
   "metadata": {},
   "outputs": [],
   "source": [
    "# becasue perm is still a string not a value"
   ]
  },
  {
   "cell_type": "markdown",
   "id": "beaba723",
   "metadata": {},
   "source": [
    "## type conversions convert string to integer "
   ]
  },
  {
   "cell_type": "code",
   "execution_count": 76,
   "id": "49e454a6",
   "metadata": {},
   "outputs": [
    {
     "data": {
      "text/plain": [
       "'25'"
      ]
     },
     "execution_count": 76,
     "metadata": {},
     "output_type": "execute_result"
    }
   ],
   "source": [
    "perm"
   ]
  },
  {
   "cell_type": "code",
   "execution_count": 77,
   "id": "1f6b5a7c",
   "metadata": {},
   "outputs": [
    {
     "data": {
      "text/plain": [
       "str"
      ]
     },
     "execution_count": 77,
     "metadata": {},
     "output_type": "execute_result"
    }
   ],
   "source": [
    "type(perm)"
   ]
  },
  {
   "cell_type": "code",
   "execution_count": 78,
   "id": "fa4e19b2",
   "metadata": {},
   "outputs": [
    {
     "data": {
      "text/plain": [
       "25.0"
      ]
     },
     "execution_count": 78,
     "metadata": {},
     "output_type": "execute_result"
    }
   ],
   "source": [
    "float(perm)"
   ]
  },
  {
   "cell_type": "code",
   "execution_count": 79,
   "id": "76c04f35",
   "metadata": {},
   "outputs": [
    {
     "data": {
      "text/plain": [
       "str"
      ]
     },
     "execution_count": 79,
     "metadata": {},
     "output_type": "execute_result"
    }
   ],
   "source": [
    "type(perm) # why it is still a string? becasue the variable float was not stored in variable (e.g perm)"
   ]
  },
  {
   "cell_type": "code",
   "execution_count": 80,
   "id": "c86e5926",
   "metadata": {},
   "outputs": [],
   "source": [
    "perm = float(perm) # assign new value type to varible "
   ]
  },
  {
   "cell_type": "code",
   "execution_count": 81,
   "id": "f135d9f1",
   "metadata": {},
   "outputs": [
    {
     "data": {
      "text/plain": [
       "float"
      ]
     },
     "execution_count": 81,
     "metadata": {},
     "output_type": "execute_result"
    }
   ],
   "source": [
    "type(perm)"
   ]
  },
  {
   "cell_type": "code",
   "execution_count": 82,
   "id": "bbdeca9d",
   "metadata": {},
   "outputs": [
    {
     "data": {
      "text/plain": [
       "25.0"
      ]
     },
     "execution_count": 82,
     "metadata": {},
     "output_type": "execute_result"
    }
   ],
   "source": [
    "perm"
   ]
  },
  {
   "cell_type": "code",
   "execution_count": 1,
   "id": "180945e4",
   "metadata": {},
   "outputs": [],
   "source": [
    "a = 3"
   ]
  },
  {
   "cell_type": "code",
   "execution_count": 2,
   "id": "8a67564c",
   "metadata": {},
   "outputs": [
    {
     "data": {
      "text/plain": [
       "int"
      ]
     },
     "execution_count": 2,
     "metadata": {},
     "output_type": "execute_result"
    }
   ],
   "source": [
    "type(a)"
   ]
  },
  {
   "cell_type": "code",
   "execution_count": 3,
   "id": "88df6787",
   "metadata": {},
   "outputs": [
    {
     "data": {
      "text/plain": [
       "'3'"
      ]
     },
     "execution_count": 3,
     "metadata": {},
     "output_type": "execute_result"
    }
   ],
   "source": [
    "str(a)"
   ]
  },
  {
   "cell_type": "code",
   "execution_count": 4,
   "id": "5541f373",
   "metadata": {},
   "outputs": [],
   "source": [
    "a = str(a)"
   ]
  },
  {
   "cell_type": "code",
   "execution_count": 5,
   "id": "46502130",
   "metadata": {},
   "outputs": [
    {
     "data": {
      "text/plain": [
       "'3'"
      ]
     },
     "execution_count": 5,
     "metadata": {},
     "output_type": "execute_result"
    }
   ],
   "source": [
    "a"
   ]
  },
  {
   "cell_type": "code",
   "execution_count": 6,
   "id": "2153fca7",
   "metadata": {},
   "outputs": [
    {
     "data": {
      "text/plain": [
       "3.0"
      ]
     },
     "execution_count": 6,
     "metadata": {},
     "output_type": "execute_result"
    }
   ],
   "source": [
    "float(a)"
   ]
  },
  {
   "cell_type": "code",
   "execution_count": 7,
   "id": "e59da780",
   "metadata": {},
   "outputs": [],
   "source": [
    "a = 'petroleum'"
   ]
  },
  {
   "cell_type": "code",
   "execution_count": 8,
   "id": "7a7d3d07",
   "metadata": {},
   "outputs": [
    {
     "data": {
      "text/plain": [
       "'petroleum'"
      ]
     },
     "execution_count": 8,
     "metadata": {},
     "output_type": "execute_result"
    }
   ],
   "source": [
    "a"
   ]
  },
  {
   "cell_type": "code",
   "execution_count": 9,
   "id": "3620393b",
   "metadata": {},
   "outputs": [
    {
     "ename": "ValueError",
     "evalue": "could not convert string to float: 'petroleum'",
     "output_type": "error",
     "traceback": [
      "\u001b[1;31m---------------------------------------------------------------------------\u001b[0m",
      "\u001b[1;31mValueError\u001b[0m                                Traceback (most recent call last)",
      "\u001b[1;32m<ipython-input-9-6c8cade3f87c>\u001b[0m in \u001b[0;36m<module>\u001b[1;34m\u001b[0m\n\u001b[1;32m----> 1\u001b[1;33m \u001b[0mfloat\u001b[0m\u001b[1;33m(\u001b[0m\u001b[0ma\u001b[0m\u001b[1;33m)\u001b[0m\u001b[1;33m\u001b[0m\u001b[1;33m\u001b[0m\u001b[0m\n\u001b[0m",
      "\u001b[1;31mValueError\u001b[0m: could not convert string to float: 'petroleum'"
     ]
    }
   ],
   "source": [
    "float(a) # can't convert to float"
   ]
  },
  {
   "cell_type": "code",
   "execution_count": 10,
   "id": "e97240e0",
   "metadata": {},
   "outputs": [],
   "source": [
    "a=6.5"
   ]
  },
  {
   "cell_type": "code",
   "execution_count": 11,
   "id": "e0cbd20a",
   "metadata": {},
   "outputs": [
    {
     "data": {
      "text/plain": [
       "6"
      ]
     },
     "execution_count": 11,
     "metadata": {},
     "output_type": "execute_result"
    }
   ],
   "source": [
    "int(a)"
   ]
  },
  {
   "cell_type": "code",
   "execution_count": 12,
   "id": "adf99822",
   "metadata": {},
   "outputs": [
    {
     "data": {
      "text/plain": [
       "6"
      ]
     },
     "execution_count": 12,
     "metadata": {},
     "output_type": "execute_result"
    }
   ],
   "source": [
    "int(6.7)"
   ]
  },
  {
   "cell_type": "code",
   "execution_count": 13,
   "id": "825bfcd4",
   "metadata": {},
   "outputs": [
    {
     "name": "stdout",
     "output_type": "stream",
     "text": [
      "Enter the formation's permeability: 85\n"
     ]
    }
   ],
   "source": [
    "# output will be string convert string to float--> add float infront of input\n",
    "permeability = float(input(\"Enter the formation's permeability: \")) "
   ]
  },
  {
   "cell_type": "code",
   "execution_count": 14,
   "id": "8ed4cdf1",
   "metadata": {},
   "outputs": [
    {
     "data": {
      "text/plain": [
       "85.0"
      ]
     },
     "execution_count": 14,
     "metadata": {},
     "output_type": "execute_result"
    }
   ],
   "source": [
    "permeability"
   ]
  },
  {
   "cell_type": "code",
   "execution_count": 15,
   "id": "d1a591a1",
   "metadata": {},
   "outputs": [
    {
     "data": {
      "text/plain": [
       "float"
      ]
     },
     "execution_count": 15,
     "metadata": {},
     "output_type": "execute_result"
    }
   ],
   "source": [
    "type(permeability)"
   ]
  },
  {
   "cell_type": "markdown",
   "id": "2847d3eb",
   "metadata": {},
   "source": [
    "## String Formatting"
   ]
  },
  {
   "cell_type": "code",
   "execution_count": 19,
   "id": "cf888c54",
   "metadata": {},
   "outputs": [
    {
     "name": "stdout",
     "output_type": "stream",
     "text": [
      "Enter the formation's permeability: 85\n",
      "Enter the formation's porosity: 0.3\n",
      "Formation's porosity is 0.2, and permeability is 25 md \n"
     ]
    }
   ],
   "source": [
    "permeability = float(input(\"Enter the formation's permeability: \")) \n",
    "porosity = float(input(\"Enter the formation's porosity: \")) \n",
    "# string is not dynamic integer and is no change/updated accordinly to the input \n",
    "print(\"Formation's porosity is 0.2, and permeability is 25 md \")"
   ]
  },
  {
   "cell_type": "code",
   "execution_count": 18,
   "id": "6c4e3132",
   "metadata": {},
   "outputs": [
    {
     "name": "stdout",
     "output_type": "stream",
     "text": [
      "formation's porosity is 0.2, and permeability is 25 md \n"
     ]
    }
   ],
   "source": [
    "print(\"formation's porosity is 0.2, and permeability is 25 md \")"
   ]
  },
  {
   "cell_type": "code",
   "execution_count": 21,
   "id": "d677c506",
   "metadata": {},
   "outputs": [
    {
     "name": "stdout",
     "output_type": "stream",
     "text": [
      "Enter the formation's permeability: 85\n",
      "Enter the formation's porosity: 0.3\n",
      "Formation's porosity is 0.3, and permeability is 85.0 md \n"
     ]
    }
   ],
   "source": [
    "permeability = float(input(\"Enter the formation's permeability: \")) \n",
    "porosity = float(input(\"Enter the formation's porosity: \")) \n",
    "#how to creat string dynamic integer change/updated accordinly to the input \n",
    "print(f\"Formation's porosity is {porosity}, and permeability is {permeability} md \")"
   ]
  },
  {
   "cell_type": "code",
   "execution_count": 29,
   "id": "933a32ef",
   "metadata": {},
   "outputs": [
    {
     "name": "stdout",
     "output_type": "stream",
     "text": [
      "Enter the formation's permeability: 25\n",
      "Enter the formation's porosity: 0.3\n",
      "Formation's porosity is 0.3, and permeability is 25.0 md \n"
     ]
    }
   ],
   "source": [
    "print(\"Formation's porosity is {}, and permeability is {} md \".format(porosity,permeability))"
   ]
  },
  {
   "cell_type": "code",
   "execution_count": 31,
   "id": "f1f629cc",
   "metadata": {},
   "outputs": [
    {
     "name": "stdout",
     "output_type": "stream",
     "text": [
      "Formation's porosity is  0.3 and permeability is  25.0 md\n"
     ]
    }
   ],
   "source": [
    "print(\"Formation's porosity is \",porosity, \"and permeability is \",permeability,\"md\")"
   ]
  },
  {
   "cell_type": "code",
   "execution_count": 33,
   "id": "ba0ce22f",
   "metadata": {},
   "outputs": [
    {
     "name": "stdout",
     "output_type": "stream",
     "text": [
      "Formation's porosity is 30.0, and permeability is 25.0 md, and the product of both is 7.5\n"
     ]
    }
   ],
   "source": [
    "print(f\"Formation's porosity is {porosity*100}, and permeability is {permeability} md, and the product of both is {porosity*permeability}\")"
   ]
  },
  {
   "cell_type": "code",
   "execution_count": null,
   "id": "e3941e01",
   "metadata": {},
   "outputs": [],
   "source": []
  }
 ],
 "metadata": {
  "kernelspec": {
   "display_name": "Python 3",
   "language": "python",
   "name": "python3"
  },
  "language_info": {
   "codemirror_mode": {
    "name": "ipython",
    "version": 3
   },
   "file_extension": ".py",
   "mimetype": "text/x-python",
   "name": "python",
   "nbconvert_exporter": "python",
   "pygments_lexer": "ipython3",
   "version": "3.8.8"
  }
 },
 "nbformat": 4,
 "nbformat_minor": 5
}
